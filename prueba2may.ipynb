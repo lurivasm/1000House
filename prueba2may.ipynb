{
  "nbformat": 4,
  "nbformat_minor": 0,
  "metadata": {
    "colab": {
      "name": "prueba2may.ipynb",
      "provenance": [],
      "authorship_tag": "ABX9TyPQY7tDLuVTLWvYq2NecEJ2",
      "include_colab_link": true
    },
    "kernelspec": {
      "name": "python3",
      "display_name": "Python 3"
    },
    "language_info": {
      "name": "python"
    }
  },
  "cells": [
    {
      "cell_type": "markdown",
      "metadata": {
        "id": "view-in-github",
        "colab_type": "text"
      },
      "source": [
        "<a href=\"https://colab.research.google.com/github/lurivasm/1000House/blob/master/prueba2may.ipynb\" target=\"_parent\"><img src=\"https://colab.research.google.com/assets/colab-badge.svg\" alt=\"Open In Colab\"/></a>"
      ]
    },
    {
      "cell_type": "code",
      "metadata": {
        "colab": {
          "base_uri": "https://localhost:8080/"
        },
        "id": "PDPIhCibMb-L",
        "outputId": "17ba4305-e8c1-449b-d3ad-b136e56b3972"
      },
      "source": [
        "import pandas as pd\n",
        "import numpy as np\n",
        "\n",
        "from google.colab import drive\n",
        "drive.mount('/content/drive')\n",
        "dirty_data = pd.read_csv('/content/drive/MyDrive/TFG/timestamp_flows_net_may21.txt', delimiter=',', header=None)\n",
        "print(dirty_data)"
      ],
      "execution_count": 2,
      "outputs": [
        {
          "output_type": "stream",
          "name": "stdout",
          "text": [
            "Mounted at /content/drive\n",
            "                    0      1                   2    3\n",
            "0          1619820145      3           0.0.0.0/1  tcp\n",
            "1          1619820145     28           0.0.0.0/1  udp\n",
            "2          1619820145   2817           0.0.0.0/4  tcp\n",
            "3          1619820145  34057           0.0.0.0/4  udp\n",
            "4          1619820145   2819           0.0.0.0/7  tcp\n",
            "...               ...    ...                 ...  ...\n",
            "132261891  1622498120      1      217.224.0.0/12  tcp\n",
            "132261892  1622498120      1      217.240.0.0/12  udp\n",
            "132261893  1622498120      1      217.240.0.0/12  tcp\n",
            "132261894  1622498120      1      217.240.0.0/14  tcp\n",
            "132261895  1622498120      3  217.243.205.192/29  udp\n",
            "\n",
            "[132261896 rows x 4 columns]\n"
          ]
        }
      ]
    },
    {
      "cell_type": "code",
      "metadata": {
        "colab": {
          "base_uri": "https://localhost:8080/"
        },
        "id": "EOGl6UlRMx_a",
        "outputId": "69a3e024-2c87-4ffc-82e6-24c1a33be7e8"
      },
      "source": [
        "# Agrupamos por subredes y sumamos los flujos totales\n",
        "top_max = 10\n",
        "top_subnets = np.array(dirty_data.groupby(2, as_index=False)[1].sum().sort_values(by=1, ascending=False)[2][:top_max])\n",
        "\n",
        "# Filtramos el dataset original con el top de subredes con más flujos\n",
        "data = dirty_data[(dirty_data[2].isin(top_subnets)) & (dirty_data[3] == 'tcp')]\n",
        "print(data)"
      ],
      "execution_count": 45,
      "outputs": [
        {
          "output_type": "stream",
          "name": "stdout",
          "text": [
            "                    0       1                 2    3\n",
            "2          1619820145    2817         0.0.0.0/4  tcp\n",
            "1577       1619820145  465880      51.77.2.0/25  tcp\n",
            "3228       1619820145    2426   81.47.204.48/28  tcp\n",
            "3763       1619820145   66824     83.48.96.0/19  tcp\n",
            "9226       1619820145    1476   185.156.73.0/24  tcp\n",
            "...               ...     ...               ...  ...\n",
            "132258567  1622498120  339081  194.224.110.0/26  tcp\n",
            "132258879  1622498120   44802    195.55.74.0/24  tcp\n",
            "132260426  1622498120    1599    213.0.43.32/28  tcp\n",
            "132260583  1622498120    1024    213.4.28.64/27  tcp\n",
            "132260626  1622498120   77216   213.4.30.192/28  tcp\n",
            "\n",
            "[83739 rows x 4 columns]\n"
          ]
        }
      ]
    },
    {
      "cell_type": "code",
      "metadata": {
        "colab": {
          "base_uri": "https://localhost:8080/"
        },
        "id": "nBBQXsf4M2pH",
        "outputId": "061c7eee-47e8-44a5-ebbd-a86a92d933ab"
      },
      "source": [
        "# Dividimos en training (1-23 octubre) y test (23-31 octubre)\n",
        "from datetime import datetime\n",
        "\n",
        "# Indexamos los nombres de las subredes para que sean int y poder usar la red\n",
        "list_index = list(data[2].drop_duplicates(keep='first'))\n",
        "\n",
        "# Para que no salte el warning de copias\n",
        "data = data.copy()\n",
        "data[2] = data[2].apply(lambda x: list_index.index(x))\n",
        "\n",
        "#list_index = list(data[3].drop_duplicates(keep='first'))\n",
        "#data[3] = data[3].apply(lambda x: list_index.index(x))\n",
        "#data[7] = data[0] + data[1]\n",
        "data[0] = data[0].apply(lambda x: datetime.fromtimestamp(x))\n",
        "\n",
        "# Nuevas columnas con día de la semana y hora, minuto, segundo\n",
        "# (de momento dia del mes no pues solo tenemos octubre)\n",
        "data[3] = data[0].apply(lambda x: x.weekday())\n",
        "data[4] = data[0].apply(lambda x: x.hour)\n",
        "data[5] = data[0].apply(lambda x: x.minute)\n",
        "\n",
        "#data[6] = data[0].apply(lambda x: x.second)\n",
        "print(data)"
      ],
      "execution_count": 46,
      "outputs": [
        {
          "output_type": "stream",
          "name": "stdout",
          "text": [
            "                            0       1  2  3   4   5\n",
            "2         2021-04-30 22:02:25    2817  0  4  22   2\n",
            "1577      2021-04-30 22:02:25  465880  1  4  22   2\n",
            "3228      2021-04-30 22:02:25    2426  2  4  22   2\n",
            "3763      2021-04-30 22:02:25   66824  3  4  22   2\n",
            "9226      2021-04-30 22:02:25    1476  4  4  22   2\n",
            "...                       ...     ... .. ..  ..  ..\n",
            "132258567 2021-05-31 21:55:20  339081  5  0  21  55\n",
            "132258879 2021-05-31 21:55:20   44802  6  0  21  55\n",
            "132260426 2021-05-31 21:55:20    1599  7  0  21  55\n",
            "132260583 2021-05-31 21:55:20    1024  8  0  21  55\n",
            "132260626 2021-05-31 21:55:20   77216  9  0  21  55\n",
            "\n",
            "[83739 rows x 6 columns]\n"
          ]
        }
      ]
    },
    {
      "cell_type": "code",
      "metadata": {
        "id": "reJf19rHQVJ-"
      },
      "source": [
        "# Usamos el 24 de octubre para separar train de test\n",
        "date_val = datetime(2021, 5, 24)\n",
        "date_test = datetime(2020, 10, 28)\n",
        "\n",
        "train_set = np.array(data[data[0] < date_val])\n",
        "train_set = train_set[:,1:].astype(float)\n",
        "\n",
        "test_set = np.array(data[data[0] >= date_val])\n",
        "test_set = test_set[:,1:].astype(float)"
      ],
      "execution_count": 47,
      "outputs": []
    },
    {
      "cell_type": "code",
      "metadata": {
        "id": "SCBACtdyQu5O"
      },
      "source": [
        "mean = train_set.mean(axis=0)\n",
        "train_set -= mean\n",
        "std = train_set.std(axis=0)\n",
        "train_set /= std\n",
        "test_set -= mean\n",
        "test_set /= std"
      ],
      "execution_count": 48,
      "outputs": []
    },
    {
      "cell_type": "code",
      "metadata": {
        "colab": {
          "base_uri": "https://localhost:8080/"
        },
        "id": "RyMjEY6ZQzr3",
        "outputId": "8330c1c3-072d-4dcd-f4cb-b259fab2d7cf"
      },
      "source": [
        "x_train = train_set[:-1,:]\n",
        "y_train = train_set[1:,0]\n",
        "\n",
        "x_test = test_set[:-1,:]\n",
        "y_test = test_set[1:,0]\n",
        "\n",
        "print(train_set[:5,:])\n",
        "print(x_train.shape)\n",
        "print(y_train.shape)\n",
        "print(x_train)\n",
        "print(y_train)\n",
        "num_input = x_train.shape[-1]"
      ],
      "execution_count": 49,
      "outputs": [
        {
          "output_type": "stream",
          "name": "stdout",
          "text": [
            "[[-0.45191373 -1.63636602  0.37819295  1.51011374 -1.52173242]\n",
            " [ 2.20380495 -1.28444317  0.37819295  1.51011374 -1.52173242]\n",
            " [-0.45415616 -0.93252031  0.37819295  1.51011374 -1.52173242]\n",
            " [-0.08482635 -0.58059746  0.37819295  1.51011374 -1.52173242]\n",
            " [-0.45960452 -0.22867461  0.37819295  1.51011374 -1.52173242]]\n",
            "(63603, 5)\n",
            "(63603,)\n",
            "[[-0.45191373 -1.63636602  0.37819295  1.51011374 -1.52173242]\n",
            " [ 2.20380495 -1.28444317  0.37819295  1.51011374 -1.52173242]\n",
            " [-0.45415616 -0.93252031  0.37819295  1.51011374 -1.52173242]\n",
            " ...\n",
            " [-0.29372211  0.4751711   1.35657839  1.65427623  1.60555866]\n",
            " [-0.45062907  0.82709396  1.35657839  1.65427623  1.60555866]\n",
            " [-0.46262119  1.17901681  1.35657839  1.65427623  1.60555866]]\n",
            "[ 2.20380495 -0.45415616 -0.08482635 ... -0.45062907 -0.46262119\n",
            " -0.10172199]\n"
          ]
        }
      ]
    },
    {
      "cell_type": "code",
      "metadata": {
        "colab": {
          "base_uri": "https://localhost:8080/"
        },
        "id": "CTlZ5IgNQ4rU",
        "outputId": "37bb73d6-4299-4ac5-b307-76381f1ef534"
      },
      "source": [
        "from keras.models import Sequential\n",
        "from keras.layers import Dense\n",
        "from keras.layers import GRU\n",
        "from keras.utils.vis_utils import plot_model\n",
        "\n",
        "epochs = 15\n",
        "batch_size = 10\n",
        "# Perceptron de 3 capas\n",
        "# Primero intentamos que todas las capas tengan el mismo número de neuronas que de inputs el modelo\n",
        "model = Sequential()\n",
        "\n",
        "model.add(Dense(7, input_dim=num_input, activation='relu'))\n",
        "model.add(Dense(7, activation='relu'))\n",
        "model.add(Dense(1, activation='sigmoid'))\n",
        "\n",
        "print(model.summary())\n",
        "\n",
        "# Para crear una foto resumen \n",
        "#plot_model(model, to_file='model_plot.png', show_shapes=True, show_layer_names=True)\n",
        "\n",
        "model.compile(loss='mse', optimizer='rmsprop', metrics=['mse', 'mae', 'mape', 'cosine_proximity'])\n",
        "\n",
        "# Epochs:\n",
        "# Batch_size:\n",
        "#history = model.fit(x_train, y_train, epochs=epochs, batch_size=batch_size, validation_split=0.2)\n",
        "history = model.fit(x_train, y_train, epochs=epochs, batch_size=batch_size, validation_data=(x_test, y_test))\n",
        "\n",
        "evaluation = model.evaluate(x_train, y_train)\n",
        "#print('Accuracy: %.2f' % (accuracy*100))"
      ],
      "execution_count": 50,
      "outputs": [
        {
          "output_type": "stream",
          "name": "stdout",
          "text": [
            "Model: \"sequential_4\"\n",
            "_________________________________________________________________\n",
            "Layer (type)                 Output Shape              Param #   \n",
            "=================================================================\n",
            "dense_12 (Dense)             (None, 7)                 42        \n",
            "_________________________________________________________________\n",
            "dense_13 (Dense)             (None, 7)                 56        \n",
            "_________________________________________________________________\n",
            "dense_14 (Dense)             (None, 1)                 8         \n",
            "=================================================================\n",
            "Total params: 106\n",
            "Trainable params: 106\n",
            "Non-trainable params: 0\n",
            "_________________________________________________________________\n",
            "None\n",
            "Epoch 1/15\n",
            "6361/6361 [==============================] - 13s 2ms/step - loss: 0.9225 - mse: 0.9225 - mae: 0.6373 - mape: 149.9374 - cosine_proximity: -0.5081 - val_loss: 0.3632 - val_mse: 0.3632 - val_mae: 0.4938 - val_mape: 111.7078 - val_cosine_proximity: -0.2898\n",
            "Epoch 2/15\n",
            "6361/6361 [==============================] - 14s 2ms/step - loss: 0.7356 - mse: 0.7356 - mae: 0.5442 - mape: 110.4635 - cosine_proximity: -0.1117 - val_loss: 0.3467 - val_mse: 0.3467 - val_mae: 0.4771 - val_mape: 111.2851 - val_cosine_proximity: -0.0432\n",
            "Epoch 3/15\n",
            "6361/6361 [==============================] - 14s 2ms/step - loss: 0.7054 - mse: 0.7054 - mae: 0.5264 - mape: 107.0888 - cosine_proximity: -0.0087 - val_loss: 0.3435 - val_mse: 0.3435 - val_mae: 0.4755 - val_mape: 111.2633 - val_cosine_proximity: -0.0270\n",
            "Epoch 4/15\n",
            "6361/6361 [==============================] - 13s 2ms/step - loss: 0.7026 - mse: 0.7026 - mae: 0.5250 - mape: 106.1406 - cosine_proximity: 0.0214 - val_loss: 0.3428 - val_mse: 0.3428 - val_mae: 0.4751 - val_mape: 111.1625 - val_cosine_proximity: -0.0114\n",
            "Epoch 5/15\n",
            "6361/6361 [==============================] - 12s 2ms/step - loss: 0.7014 - mse: 0.7014 - mae: 0.5245 - mape: 106.4428 - cosine_proximity: 0.0253 - val_loss: 0.3432 - val_mse: 0.3432 - val_mae: 0.4752 - val_mape: 111.3214 - val_cosine_proximity: -0.0107\n",
            "Epoch 6/15\n",
            "6361/6361 [==============================] - 13s 2ms/step - loss: 0.7007 - mse: 0.7007 - mae: 0.5242 - mape: 106.2059 - cosine_proximity: 0.0265 - val_loss: 0.3461 - val_mse: 0.3461 - val_mae: 0.4766 - val_mape: 111.4033 - val_cosine_proximity: -0.0095\n",
            "Epoch 7/15\n",
            "6361/6361 [==============================] - 12s 2ms/step - loss: 0.6999 - mse: 0.6999 - mae: 0.5238 - mape: 104.5098 - cosine_proximity: 0.0294 - val_loss: 0.3425 - val_mse: 0.3425 - val_mae: 0.4754 - val_mape: 111.0090 - val_cosine_proximity: -0.0123\n",
            "Epoch 8/15\n",
            "6361/6361 [==============================] - 14s 2ms/step - loss: 0.6994 - mse: 0.6994 - mae: 0.5236 - mape: 105.5417 - cosine_proximity: 0.0352 - val_loss: 0.3486 - val_mse: 0.3486 - val_mae: 0.4785 - val_mape: 111.8095 - val_cosine_proximity: -0.0172\n",
            "Epoch 9/15\n",
            "6361/6361 [==============================] - 14s 2ms/step - loss: 0.6989 - mse: 0.6989 - mae: 0.5234 - mape: 105.7654 - cosine_proximity: 0.0386 - val_loss: 0.3457 - val_mse: 0.3457 - val_mae: 0.4773 - val_mape: 111.3079 - val_cosine_proximity: -0.0503\n",
            "Epoch 10/15\n",
            "6361/6361 [==============================] - 12s 2ms/step - loss: 0.6987 - mse: 0.6987 - mae: 0.5232 - mape: 105.9742 - cosine_proximity: 0.0203 - val_loss: 0.3455 - val_mse: 0.3455 - val_mae: 0.4765 - val_mape: 111.8936 - val_cosine_proximity: -0.0675\n",
            "Epoch 11/15\n",
            "6361/6361 [==============================] - 12s 2ms/step - loss: 0.6987 - mse: 0.6987 - mae: 0.5232 - mape: 105.0005 - cosine_proximity: 0.0166 - val_loss: 0.3452 - val_mse: 0.3452 - val_mae: 0.4761 - val_mape: 111.6166 - val_cosine_proximity: -0.0670\n",
            "Epoch 12/15\n",
            "6361/6361 [==============================] - 12s 2ms/step - loss: 0.6984 - mse: 0.6984 - mae: 0.5231 - mape: 106.2946 - cosine_proximity: 0.0185 - val_loss: 0.3452 - val_mse: 0.3452 - val_mae: 0.4765 - val_mape: 112.0219 - val_cosine_proximity: -0.0704\n",
            "Epoch 13/15\n",
            "6361/6361 [==============================] - 13s 2ms/step - loss: 0.6983 - mse: 0.6983 - mae: 0.5231 - mape: 104.9953 - cosine_proximity: 0.0261 - val_loss: 0.3450 - val_mse: 0.3450 - val_mae: 0.4764 - val_mape: 111.5121 - val_cosine_proximity: -0.0641\n",
            "Epoch 14/15\n",
            "6361/6361 [==============================] - 13s 2ms/step - loss: 0.6983 - mse: 0.6983 - mae: 0.5231 - mape: 106.4752 - cosine_proximity: 0.0295 - val_loss: 0.3430 - val_mse: 0.3430 - val_mae: 0.4756 - val_mape: 111.1271 - val_cosine_proximity: -0.0468\n",
            "Epoch 15/15\n",
            "6361/6361 [==============================] - 14s 2ms/step - loss: 0.6980 - mse: 0.6980 - mae: 0.5229 - mape: 105.5116 - cosine_proximity: 0.0341 - val_loss: 0.3459 - val_mse: 0.3459 - val_mae: 0.4771 - val_mape: 111.4033 - val_cosine_proximity: -0.0475\n",
            "1988/1988 [==============================] - 3s 1ms/step - loss: 0.6980 - mse: 0.6980 - mae: 0.5229 - mape: 102.8162 - cosine_proximity: 0.0426\n"
          ]
        }
      ]
    },
    {
      "cell_type": "code",
      "metadata": {
        "colab": {
          "base_uri": "https://localhost:8080/",
          "height": 295
        },
        "id": "KizDuG9GRNkq",
        "outputId": "632bdfac-f25d-45c6-84a8-e01ab685cc1a"
      },
      "source": [
        "import matplotlib.pyplot as plt\n",
        "\n",
        "# training loss vs. validation loss over the number of epochs\n",
        "\n",
        "loss_train = history.history['loss']\n",
        "loss_val = history.history['val_loss']\n",
        "epochs_array = range(1,epochs+1)\n",
        "plt.plot(epochs_array, loss_train, 'g', label='Training loss')\n",
        "plt.plot(epochs_array, loss_val, 'b', label='validation loss')\n",
        "plt.title('Training and Validation loss')\n",
        "plt.xlabel('Epochs')\n",
        "plt.ylabel('Loss')\n",
        "plt.legend()\n",
        "plt.show()"
      ],
      "execution_count": 51,
      "outputs": [
        {
          "output_type": "display_data",
          "data": {
            "image/png": "[encoded data removed]",
            "text/plain": [
              "<Figure size 432x288 with 1 Axes>"
            ]
          },
          "metadata": {
            "needs_background": "light"
          }
        }
      ]
    },
    {
      "cell_type": "code",
      "metadata": {
        "colab": {
          "base_uri": "https://localhost:8080/",
          "height": 295
        },
        "id": "z8Bz_WytRRuR",
        "outputId": "dfd53d20-0978-4b37-e233-e8b6ee56b732"
      },
      "source": [
        "loss_train = history.history['mae']\n",
        "loss_val = history.history['val_mae']\n",
        "plt.plot(epochs_array, loss_train, 'g', label='Training mae')\n",
        "plt.plot(epochs_array, loss_val, 'b', label='validation mae')\n",
        "plt.title('Training and Validation mae')\n",
        "plt.xlabel('Epochs')\n",
        "plt.ylabel('Accuracy')\n",
        "plt.legend()\n",
        "plt.show()"
      ],
      "execution_count": 52,
      "outputs": [
        {
          "output_type": "display_data",
          "data": {
            "image/png": "[encoded data removed]",
            "text/plain": [
              "<Figure size 432x288 with 1 Axes>"
            ]
          },
          "metadata": {
            "needs_background": "light"
          }
        }
      ]
    },
    {
      "cell_type": "code",
      "metadata": {
        "colab": {
          "base_uri": "https://localhost:8080/",
          "height": 683
        },
        "id": "3UTHh3N0RVo8",
        "outputId": "3e01b890-63ab-4936-b8de-05e71f6d0e92"
      },
      "source": [
        "# make a prediction\n",
        "y_pred = model.predict(x_test)\n",
        "# show the inputs and predicted outputs\n",
        "for i in range(10):\n",
        "\tprint(\"X=%s, Predicted=%s, Expected=%s\" % (x_test[i], y_pred[i], y_test[i]))\n",
        " \n",
        "import matplotlib.pyplot as plt\n",
        "plt.plot(y_test, label='test')\n",
        "plt.plot(y_pred, label='pred')\n",
        "plt.legend()\n",
        "plt.show()\n",
        "plt.plot(y_train, label='train')\n",
        "plt.legend()\n",
        "plt.show()"
      ],
      "execution_count": 53,
      "outputs": [
        {
          "output_type": "stream",
          "name": "stdout",
          "text": [
            "X=[-0.44371252 -1.63636602 -1.57857793 -1.66146124 -1.57964522], Predicted=[1.12748165e-32], Expected=-0.4564559405096354\n",
            "X=[-0.45645594 -0.93252031 -1.57857793 -1.66146124 -1.57964522], Predicted=[1.5146494e-15], Expected=0.29000917601534265\n",
            "X=[ 0.29000918 -0.58059746 -1.57857793 -1.66146124 -1.57964522], Predicted=[0.99996275], Expected=-0.46549447876453803\n",
            "X=[-0.46549448 -0.22867461 -1.57857793 -1.66146124 -1.57964522], Predicted=[0.00267828], Expected=0.794492665262968\n",
            "X=[ 0.79449267  0.12324825 -1.57857793 -1.66146124 -1.57964522], Predicted=[0.00031993], Expected=-0.2945364921906844\n",
            "X=[-0.29453649  0.4751711  -1.57857793 -1.66146124 -1.57964522], Predicted=[8.93771e-33], Expected=-0.4493329300321042\n",
            "X=[-0.44933293  0.82709396 -1.57857793 -1.66146124 -1.57964522], Predicted=[0.], Expected=-0.4629824992241527\n",
            "X=[-0.4629825   1.17901681 -1.57857793 -1.66146124 -1.57964522], Predicted=[0.], Expected=-0.09209273466542489\n",
            "X=[-0.09209273  1.53093966 -1.57857793 -1.66146124 -1.57964522], Predicted=[0.], Expected=-0.44426882515959215\n",
            "X=[-0.44426883 -1.63636602 -1.57857793 -1.66146124 -1.29008123], Predicted=[1.2469519e-32], Expected=-0.46786308047727587\n"
          ]
        },
        {
          "output_type": "display_data",
          "data": {
            "image/png": "[encoded data removed]",
            "text/plain": [
              "<Figure size 432x288 with 1 Axes>"
            ]
          },
          "metadata": {
            "needs_background": "light"
          }
        },
        {
          "output_type": "display_data",
          "data": {
            "image/png": "[encoded data removed]",
            "text/plain": [
              "<Figure size 432x288 with 1 Axes>"
            ]
          },
          "metadata": {
            "needs_background": "light"
          }
        }
      ]
    }
  ]
}